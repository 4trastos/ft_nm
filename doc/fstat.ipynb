{
 "cells": [
  {
   "cell_type": "markdown",
   "id": "73d1fa0c",
   "metadata": {},
   "source": [
    "### **¿Qué hace `fstat` exactamente en tu `ft_checkarg`?**\n",
    "\n",
    "La función `fstat` (file status) es una llamada al sistema POSIX que se utiliza para **obtener información detallada sobre un archivo, dado su descriptor de archivo (`fd`)**.\n",
    "\n",
    "Cuando llamas:\n"
   ]
  },
  {
   "cell_type": "markdown",
   "id": "204dceab",
   "metadata": {},
   "source": [
    "success = fstat(fd, &my_file_info);\n",
    "```fstat` hace lo siguiente:\n",
    "\n",
    "1.  **Recibe el descriptor de archivo (`fd`):** Este `fd` es el identificador numérico que obtuviste previamente con `open()` para un archivo específico.\n",
    "2.  **Rellena una estructura `struct stat`:** `fstat` accede a los metadatos del archivo asociado con ese `fd` y los almacena en la estructura `my_file_info` (a la que le pasas la dirección con `&my_file_info`).\n",
    "\n",
    "**¿Qué tipo de información se guarda en `my_file_info`?**\n",
    "\n",
    "La estructura `struct stat` contiene una gran cantidad de metadatos sobre el archivo, entre ellos (los más relevantes para `nm` y chequeos):\n",
    "\n",
    "* **`st_mode`:** Contiene el modo del archivo (permisos de lectura/escritura/ejecución) y, lo que es **crucial para tu `ft_checkarg`**, el **tipo de archivo**. Aquí es donde `fstat` te dice si es un archivo regular, un directorio, un enlace simbólico, un dispositivo, etc.\n",
    "    * `S_ISDIR(my_file_info.st_mode)` es una macro que comprueba si el `st_mode` indica que es un **directorio**. Esta es la línea clave en tu código que usa la información de `fstat`.\n",
    "* **`st_size`:** El **tamaño total del archivo** en bytes. Esto es lo que necesitas para la función `mmap()` en `ft_fileFormat_id`.\n",
    "* `st_dev`: ID del dispositivo que contiene el archivo.\n",
    "* `st_ino`: Número de inodo.\n",
    "* `st_nlink`: Número de enlaces duros.\n",
    "* `st_uid`: ID de usuario propietario.\n",
    "* `st_gid`: ID de grupo propietario.\n",
    "* `st_atime`: Último acceso al archivo.\n",
    "* `st_mtime`: Última modificación del contenido del archivo.\n",
    "* `st_ctime`: Último cambio en el estado del archivo (metadatos).\n",
    "\n",
    "**Valor de retorno de `fstat`:**\n",
    "\n",
    "* **`0` (cero):** Indica que la llamada fue **exitosa** y la estructura `my_file_info` ha sido rellenada correctamente.\n",
    "* **`-1`:** Indica que ha ocurrido un **error**. En este caso, la variable global `errno` contendrá un código de error específico (que tú pasas a `ft_handle_file_error`), como `EBADF` (descriptor de archivo inválido), `EACCES` (permiso denegado), etc.\n",
    "\n",
    "---\n",
    "\n",
    "### **Propósito de `fstat` en `ft_checkarg`:**\n",
    "\n",
    "En tu función `ft_checkarg`, `fstat` se usa para dos cosas principales:\n",
    "\n",
    "1.  **Verificar si el `fd` (y por extensión, el archivo) es válido y accesible:** Si `fstat` falla (`success == -1`), sabes que hay un problema con el archivo más allá de si se pudo abrir (por ejemplo, el disco está corrupto, o algo cambió justo después de `open`).\n",
    "2.  **Determinar el tipo de archivo:** La información de `st_mode` es esencial para saber si `file_name` es un **directorio**. Un directorio no es un binario ejecutable y `nm` no lo puede procesar, por lo que emites una advertencia y devuelves `0`.\n",
    "\n",
    "En resumen, `fstat` es tu herramienta para obtener metadatos cruciales sobre el archivo que abriste, permitiéndote tomar decisiones informadas sobre cómo proceder con él."
   ]
  }
 ],
 "metadata": {
  "language_info": {
   "name": "python"
  }
 },
 "nbformat": 4,
 "nbformat_minor": 5
}
